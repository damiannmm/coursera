{
 "cells": [
  {
   "cell_type": "markdown",
   "metadata": {},
   "source": [
    "This capstone project will be graded by your peers. This capstone project is worth **70%** of your total grade. The project will be completed over the course of **2 weeks**. Week 1 submissions will be worth **30%** whereas week 2 submissions will be worth **40% of your total grade**.\n",
    "\n",
    "For this week, you will required to submit the following:\n",
    "\n",
    "1. A description of the problem and a discussion of the background. (15 marks)\n",
    "2. A description of the data and how it will be used to solve the problem. (15 marks)\n",
    "\n",
    "For the second week, the final deliverables of the project will be:\n",
    "\n",
    "1. A link to your Notebook on your Github repository, showing your code. (15 marks)\n",
    "2. A full report consisting of all of the following components (15 marks):\n",
    "\n",
    "- Introduction where you discuss the business problem and who would be interested in this project.\n",
    "- Data where you describe the data that will be used to solve the problem and the source of the data.\n",
    "- Methodology section which represents the main component of the report where you discuss and describe any exploratory data analysis that you did, any inferential statistical testing that you performed, if any, and what machine learnings were used and why.\n",
    "- Results section where you discuss the results.\n",
    "- Discussion section where you discuss any observations you noted and any recommendations you can make based on the results.\n",
    "- Conclusion section where you conclude the report.\n",
    "\n",
    "3. Your choice of a presentation or blogpost. (10 marks)"
   ]
  },
  {
   "cell_type": "markdown",
   "metadata": {},
   "source": [
    "- market?\n",
    "    + place to stay?\n",
    "    + place to work?\n",
    "    + count of head?\n",
    "    + culture? race? \n",
    "- competitors?\n",
    "    + prices?\n",
    "    + cuisine?\n",
    "    + ratings?\n",
    "    + menus?\n",
    "- "
   ]
  }
 ],
 "metadata": {
  "kernelspec": {
   "display_name": "Python 3",
   "language": "python",
   "name": "python3"
  },
  "language_info": {
   "codemirror_mode": {
    "name": "ipython",
    "version": 3
   },
   "file_extension": ".py",
   "mimetype": "text/x-python",
   "name": "python",
   "nbconvert_exporter": "python",
   "pygments_lexer": "ipython3",
   "version": "3.7.4"
  }
 },
 "nbformat": 4,
 "nbformat_minor": 4
}
